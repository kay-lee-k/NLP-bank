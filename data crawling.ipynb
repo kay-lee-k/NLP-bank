{
  "cells": [],
  "metadata": {},
  "nbformat": 4,
  "nbformat_minor": 4
}

!pip install google-play-scraper
from google_play_scraper import reviews
print("✅ google_play_scraper 정상적으로 불러옴!")
from google_play_scraper import reviews, Sort
import pandas as pd
import time

app_id = "com.ibk.android.ionebank"
lang = "ko"
country = "kr"

all_reviews = []
batch_size = 1000  # 한 번에 가져올 리뷰 개수
total_reviews = 370000  # 목표 개수
page = 1

while len(all_reviews) < total_reviews:
    result, _ = reviews(
        app_id,
        lang=lang,
        country=country,
        count=batch_size,
        sort=Sort.NEWEST,  # 최신순 정렬
    )
    all_reviews.extend(result)
    print(f"✅ {len(all_reviews)}건 수집 완료")
    time.sleep(2)  # API 요청 간격 조정

df = pd.DataFrame(all_reviews)
df.to_csv("google_play_reviews.csv", index=False, encoding="utf-8")
print("🎉 데이터 저장 완료!")
